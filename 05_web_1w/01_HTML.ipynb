{
 "cells": [
  {
   "cell_type": "markdown",
   "metadata": {},
   "source": [
    "# Web\n",
    "> Web site, Web application 등을 통해 사용자들이 정보를 검색하고 상호 작용하는 기술\n",
    "\n",
    "## Web site\n",
    "> 인터넷에서 여러 개의 Web page가 모인 것으로, 사용자들에게 정보나 서비스를 제공하는 공간\n",
    "\n",
    "- Web page 구성 요소\n",
    "    - Structure(HTML)\n",
    "    - Styling(CSS)\n",
    "    - Behavior(JavaScript)\n",
    "\n",
    "## HTML(HyperText Markup Language)\n",
    "> 웹 페이지의 의미와 구조를 정의하는 언어\n",
    "\n",
    "## CSS(Cascading Style Sheet)\n",
    "> 웹 페이지의 디자인과 레이아웃을 구성하는 언어\n",
    "\n",
    " - CSS구문 : \n",
    " 선택자 {\n",
    "    속성: 값;\n",
    "    속성: 값;\n",
    "    } \n",
    " 으로 선언\n",
    "\n",
    " - 적용방법\n",
    "    1. 인라인 스타일(한줄짜리) - 지양해야할 스타일\n",
    "    2. 내부 스타일 시트(여러줄)\n",
    "    3. 외부 스타일 시트(.css파일을 링크시키기)\n",
    "\n",
    " - CSS 선택자\n",
    "    - 기본 선택자\n",
    "        - 전체(*)선택자 : HTML 모든 요소\n",
    "        - 요소(tag)선택자 : 지정한 모든 태그를 선택\n",
    "        - 클래스(class)선택자(주로 사용)\n",
    "        - 아이디 선택자('#') : 하나에만 적용할 때\n",
    "        - 자손 결합자(\"\"(space)) : 첫번째 요소의 자손 요소들 선택\n",
    "        - 자식 결합자(\">\") : 첫번째 요소의 직계 자식만 선택\n",
    "    \n",
    "    \n",
    "    - 우선순위(Specificity)\n",
    "    > Cascade : 동일한 우선순위를 갖는 규칙이 적용될 때, CSS에서 마지막에 나오는 규칙이 적용됨\n",
    "\n",
    "        - 우선 순위가 높은 순\n",
    "            1. Importance\n",
    "                - !important\n",
    "            2. Inline 스타일\n",
    "            3. 선택자\n",
    "                - id 선택자 > class 선택자 > 요소 선택자\n",
    "            4. 소스 코드 순서 "
   ]
  },
  {
   "cell_type": "markdown",
   "metadata": {},
   "source": []
  }
 ],
 "metadata": {
  "language_info": {
   "name": "python"
  },
  "orig_nbformat": 4
 },
 "nbformat": 4,
 "nbformat_minor": 2
}
