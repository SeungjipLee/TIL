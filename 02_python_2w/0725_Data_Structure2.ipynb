{
 "cells": [
  {
   "cell_type": "markdown",
   "metadata": {},
   "source": [
    "### 비시퀀스 데이터 구조\n",
    "\n",
    "## 세트(집합)\n",
    "> 고유한 항목들의 정렬되지 않은 컬렉션\n",
    "\n",
    "- 세트 메서드\n",
    "    - s.add(x) : 세트 s에 항목 x를 추가. 이미 x가 있다면 변화 없음\n",
    "    - s.clear() : 세트 s에 모든 항목을 제거\n",
    "    - s.remove(x) : 세트 s에서 항목 x를 제거. 항목 x가 없을 경우 Key error\n",
    "    - s.pop() : 세트 s에서 랜덤하게 항목을 반환하고, 해당 항목을 제거\n",
    "    - s.discard(x) : 세트 s에서 항목 x를 제거\n",
    "    - s.update(iterable) : 세트에 다른 iterable 요소를 추가"
   ]
  },
  {
   "cell_type": "code",
   "execution_count": 1,
   "metadata": {},
   "outputs": [
    {
     "name": "stdout",
     "output_type": "stream",
     "text": [
      "{1, 2, 3, 4}\n",
      "{1, 2, 3, 4}\n"
     ]
    }
   ],
   "source": [
    "# .add(x)\n",
    "my_set = {1, 2, 3}\n",
    "my_set.add(4)\n",
    "print(my_set)   # {1, 2, 3, 4}\n",
    "\n",
    "my_set.add(4)\n",
    "print(my_set)   # {1, 2, 3, 4}"
   ]
  },
  {
   "cell_type": "code",
   "execution_count": 3,
   "metadata": {},
   "outputs": [
    {
     "name": "stdout",
     "output_type": "stream",
     "text": [
      "set()\n"
     ]
    }
   ],
   "source": [
    "# .clear()\n",
    "my_set = {1, 2, 3}\n",
    "my_set.clear()\n",
    "print(my_set)       # set()"
   ]
  },
  {
   "cell_type": "code",
   "execution_count": 4,
   "metadata": {},
   "outputs": [
    {
     "name": "stdout",
     "output_type": "stream",
     "text": [
      "{1, 3}\n"
     ]
    },
    {
     "ename": "KeyError",
     "evalue": "2",
     "output_type": "error",
     "traceback": [
      "\u001b[1;31m---------------------------------------------------------------------------\u001b[0m",
      "\u001b[1;31mKeyError\u001b[0m                                  Traceback (most recent call last)",
      "Cell \u001b[1;32mIn[4], line 6\u001b[0m\n\u001b[0;32m      3\u001b[0m my_set\u001b[39m.\u001b[39mremove(\u001b[39m2\u001b[39m)\n\u001b[0;32m      4\u001b[0m \u001b[39mprint\u001b[39m(my_set)       \u001b[39m# {1, 3}\u001b[39;00m\n\u001b[1;32m----> 6\u001b[0m my_set\u001b[39m.\u001b[39;49mremove(\u001b[39m2\u001b[39;49m)\n\u001b[0;32m      7\u001b[0m \u001b[39mprint\u001b[39m(my_set)\n",
      "\u001b[1;31mKeyError\u001b[0m: 2"
     ]
    }
   ],
   "source": [
    "# .remove(x)\n",
    "my_set = {1, 2, 3}\n",
    "my_set.remove(2)\n",
    "print(my_set)       # {1, 3}\n",
    "\n",
    "my_set.remove(2)    # Error\n",
    "print(my_set)"
   ]
  },
  {
   "cell_type": "code",
   "execution_count": 6,
   "metadata": {},
   "outputs": [
    {
     "name": "stdout",
     "output_type": "stream",
     "text": [
      "{1, 3}\n",
      "{1, 3}\n"
     ]
    }
   ],
   "source": [
    "# .discard()\n",
    "my_set = {1, 2, 3}\n",
    "my_set.discard(2)\n",
    "print(my_set)       # {1, 3}\n",
    "\n",
    "my_set.discard(2)\n",
    "print(my_set)       # Not Error"
   ]
  },
  {
   "cell_type": "code",
   "execution_count": 15,
   "metadata": {},
   "outputs": [
    {
     "name": "stdout",
     "output_type": "stream",
     "text": [
      "a\n",
      "{'b', '1'}\n"
     ]
    }
   ],
   "source": [
    "# .pop() : 세트에서 임의의 요소를 제거하고 반환 - 매번 바뀌는 임의가 아닌 해쉬 테이블 순서대로 나옴\n",
    "            # 정수는 고정이고 str은 실행시마다 다름\n",
    "my_set = {1, 2, 3}\n",
    "element = my_set.pop()\n",
    "\n",
    "print(element) \n",
    "print(my_set)"
   ]
  },
  {
   "cell_type": "code",
   "execution_count": 16,
   "metadata": {},
   "outputs": [
    {
     "name": "stdout",
     "output_type": "stream",
     "text": [
      "{1, 2, 3, 4, 5}\n"
     ]
    }
   ],
   "source": [
    "my_set = {1, 2, 3}\n",
    "my_set.update([4, 5, 1])\n",
    "print(my_set)"
   ]
  },
  {
   "cell_type": "markdown",
   "metadata": {},
   "source": [
    "- 세트의 집합 메서드\n",
    "    - set1.difference(set2) : set1 - set2  (차집합)\n",
    "    - set1.intersection(set2) : set1 & set2 (교집합)\n",
    "    - set1.issubset(set2) : set1 <= set2     (부분집합)\n",
    "    - set1.isuperset(set2) : set1 >= set2    (부분집합) \n",
    "    - set1.union(set2) : set1 | set2 (합집합)     "
   ]
  },
  {
   "cell_type": "code",
   "execution_count": 18,
   "metadata": {},
   "outputs": [
    {
     "name": "stdout",
     "output_type": "stream",
     "text": [
      "{0, 2, 4}\n",
      "{1, 3}\n",
      "False\n",
      "False\n",
      "{0, 1, 2, 3, 4, 5, 7, 9}\n"
     ]
    }
   ],
   "source": [
    "set1 = {0, 1, 2, 3, 4}\n",
    "set2 = {1, 3, 5, 7, 9}\n",
    "\n",
    "print(set1.difference(set2))\n",
    "print(set1.intersection(set2))\n",
    "print(set1.issubset(set2))\n",
    "print(set1.issuperset(set2))\n",
    "print(set1.union(set2))"
   ]
  },
  {
   "cell_type": "markdown",
   "metadata": {},
   "source": [
    "## 딕셔너리\n",
    "> 고유한 항목들의 정렬되지 않은 컬렉션\n",
    "\n",
    "- 딕셔너리 메서드\n",
    "    - D.clear() : 딕셔너리 D의 모든 키/값 쌍을 제거\n",
    "    - D.get(k) : 키 k에 연결된 값을 반환(키가 없으면 None을 반환)\n",
    "    - D.get(k,v) : 키 k에 연결된 값을 반환하거나 키가 없으면 기본 값으로 v를 반환\n",
    "    - D.pop(key[,default]) : 키를 제거하고 연결됐던 값을 반환(없으면 에러나 default를 반환)\n",
    "    - D.setdefault(key[,default]) : 키와 연결된 값을 반환. 키가 없다면 default와 연결한 키를 딕셔너리에 추가하고 default를 반환\n",
    "    - D.update([other]) : other가 제공하는 키/값 쌍으로 딕셔너리를 갱신. 기존 키는 덮어씀"
   ]
  },
  {
   "cell_type": "code",
   "execution_count": 21,
   "metadata": {},
   "outputs": [
    {
     "name": "stdout",
     "output_type": "stream",
     "text": [
      "Alice\n",
      "None\n",
      "Unknown\n",
      "25\n",
      "25\n"
     ]
    },
    {
     "ename": "KeyError",
     "evalue": "'city'",
     "output_type": "error",
     "traceback": [
      "\u001b[1;31m---------------------------------------------------------------------------\u001b[0m",
      "\u001b[1;31mKeyError\u001b[0m                                  Traceback (most recent call last)",
      "Cell \u001b[1;32mIn[21], line 11\u001b[0m\n\u001b[0;32m      8\u001b[0m \u001b[39mprint\u001b[39m(person[\u001b[39m'\u001b[39m\u001b[39mage\u001b[39m\u001b[39m'\u001b[39m])\n\u001b[0;32m      9\u001b[0m \u001b[39mprint\u001b[39m(person\u001b[39m.\u001b[39mget(\u001b[39m'\u001b[39m\u001b[39mage\u001b[39m\u001b[39m'\u001b[39m))\n\u001b[1;32m---> 11\u001b[0m \u001b[39mprint\u001b[39m(person[\u001b[39m'\u001b[39;49m\u001b[39mcity\u001b[39;49m\u001b[39m'\u001b[39;49m])\n\u001b[0;32m     12\u001b[0m \u001b[39mprint\u001b[39m(person\u001b[39m.\u001b[39mget(\u001b[39m'\u001b[39m\u001b[39mcity\u001b[39m\u001b[39m'\u001b[39m))\n",
      "\u001b[1;31mKeyError\u001b[0m: 'city'"
     ]
    }
   ],
   "source": [
    "# .get(key[,default])\n",
    "person = {'name': 'Alice', 'age': 25}\n",
    "\n",
    "print(person.get('name'))\n",
    "print(person.get('country'))\n",
    "print(person.get('country','Unknown'))\n",
    "\n",
    "print(person['age'])\n",
    "print(person.get('age'))\n",
    "\n",
    "print(person['city'])           # 얘는 에러\n",
    "print(person.get('city'))       # 얘는 None 심지어 다른 값으로도 설정 가능"
   ]
  },
  {
   "cell_type": "code",
   "execution_count": 33,
   "metadata": {},
   "outputs": [
    {
     "name": "stdout",
     "output_type": "stream",
     "text": [
      "dict_keys(['name', 'age', 'city'])\n",
      "<class 'dict_keys'>\n",
      "name\n",
      "age\n",
      "city\n",
      "dict_values(['Alice', 25, 'ChangWon'])\n",
      "Alice\n",
      "25\n",
      "ChangWon\n",
      "dict_items([('name', 'Alice'), ('age', 25), ('city', 'ChangWon')])\n",
      "name Alice\n",
      "age 25\n",
      "city ChangWon\n"
     ]
    }
   ],
   "source": [
    "# .keys()\n",
    "person = {\n",
    "    'name': 'Alice',\n",
    "    'age': 25,\n",
    "    'city': 'ChangWon'\n",
    "    }\n",
    "print(person.keys())\n",
    "print(type(person.keys()))\n",
    "\n",
    "for key in person.keys():\n",
    "    print(key)\n",
    "\n",
    "print(person.values())\n",
    "for value in person.values():\n",
    "    print(value)\n",
    "\n",
    "print(person.items())\n",
    "for key, value in person.items():\n",
    "    print(key, value)"
   ]
  },
  {
   "cell_type": "code",
   "execution_count": 35,
   "metadata": {},
   "outputs": [
    {
     "name": "stdout",
     "output_type": "stream",
     "text": [
      "25\n",
      "country키는 없어요\n",
      "{'name': 'Alice', 'city': 'ChangWon'}\n"
     ]
    }
   ],
   "source": [
    "# .pop(key[,default])\n",
    "person = {\n",
    "    'name': 'Alice',\n",
    "    'age': 25,\n",
    "    'city': 'ChangWon'\n",
    "    }\n",
    "\n",
    "print(person.pop('age'))\n",
    "print(person.pop('country', 'country키는 없어요'))\n",
    "print(person)\n"
   ]
  },
  {
   "cell_type": "code",
   "execution_count": 40,
   "metadata": {},
   "outputs": [
    {
     "name": "stdout",
     "output_type": "stream",
     "text": [
      "Korea\n",
      "25\n",
      "{'name': 'Alice', 'age': 25, 'city': 'ChangWon', 'country': 'Korea'}\n"
     ]
    }
   ],
   "source": [
    "# .setdefault(key[,default])\n",
    "person = {\n",
    "    'name': 'Alice',\n",
    "    'age': 25,\n",
    "    'city': 'ChangWon'\n",
    "    }\n",
    "\n",
    "print(person.setdefault('country','Korea'))\n",
    "print(person.setdefault('age', 50))\n",
    "print(person)"
   ]
  },
  {
   "cell_type": "code",
   "execution_count": 42,
   "metadata": {},
   "outputs": [
    {
     "name": "stdout",
     "output_type": "stream",
     "text": [
      "{'name': 'Alice', 'age': 25, 'city': 'ChangWon', 'gender': 'Female'}\n",
      "{'name': 'Alice', 'age': 50, 'city': 'ChangWon', 'gender': 'Female'}\n",
      "{'name': 'Alice', 'age': 50, 'city': 'ChangWon', 'gender': 'Female', 'contry': 'Korea'}\n"
     ]
    }
   ],
   "source": [
    "person = {\n",
    "    'name': 'Alice',\n",
    "    'age': 25,\n",
    "    'city': 'ChangWon'\n",
    "    }\n",
    "other_person = {\n",
    "    'name': 'Alice',\n",
    "    'gender': 'Female',\n",
    "    }\n",
    "\n",
    "person.update(other_person)\n",
    "print(person)\n",
    "\n",
    "person.update(age = 50)\n",
    "print(person)\n",
    "\n",
    "person.update(contry = 'Korea')\n",
    "print(person)"
   ]
  },
  {
   "cell_type": "code",
   "execution_count": 45,
   "metadata": {},
   "outputs": [
    {
     "name": "stdout",
     "output_type": "stream",
     "text": [
      "{'A': 3, 'B': 3, 'O': 3, 'AB': 3}\n",
      "{'A': 3, 'B': 3, 'O': 3, 'AB': 3}\n",
      "{'A': 3, 'B': 3, 'O': 3, 'AB': 3}\n"
     ]
    }
   ],
   "source": [
    "# 혈액형 인원수 세기\n",
    "# 결과 => {'A': 3, 'B': 3, 'O': 3, 'AB': 3}\n",
    "blood_types = ['A', 'B', 'A', 'O', 'AB', 'AB', 'O', 'A', 'B', 'O', 'B', 'AB']\n",
    "\n",
    "# []\n",
    "new_dict = {}\n",
    "# blood_types을 순회하면서\n",
    "for blood_type in blood_types:\n",
    "    # 기존에 키가 이미 존재한다면,\n",
    "    if blood_type in new_dict:\n",
    "        #기존에 키의 값을 +1 증가\n",
    "        new_dict[blood_type] += 1\n",
    "    # 키가 존재하지 않는다면 (처음 설정되는 키)\n",
    "    else :\n",
    "        new_dict[blood_type] = 1\n",
    "\n",
    "print(new_dict)\n",
    "\n",
    "\n",
    "# .get()\n",
    "new_dict = {}\n",
    "# blood_types을 순회하면서\n",
    "for blood_type in blood_types:\n",
    "    new_dict[blood_type]  = new_dict.get(blood_type, 0) + 1\n",
    "\n",
    "print(new_dict)\n",
    "\n",
    "\n",
    "# .setdefault()\n",
    "new_dict = {}\n",
    "for blood_type in blood_types:\n",
    "    new_dict.setdefault(blood_type, 0)\n",
    "    new_dict[blood_type] += 1\n",
    "\n",
    "print(new_dict)"
   ]
  },
  {
   "cell_type": "markdown",
   "metadata": {},
   "source": [
    "### 복사\n",
    "## 데이터 타입과 복사\n",
    "> 가변과 불변을 인지\n",
    "\n",
    "복사 유형\n",
    "    1. 할당"
   ]
  },
  {
   "cell_type": "code",
   "execution_count": 46,
   "metadata": {},
   "outputs": [
    {
     "name": "stdout",
     "output_type": "stream",
     "text": [
      "[100, 2, 3]\n"
     ]
    }
   ],
   "source": [
    "# 리스트 복사 예시\n",
    "original_list = [1, 2, 3]\n",
    "copied_list = original_list\n",
    "original_list[0] = 100\n",
    "print(copied_list)"
   ]
  },
  {
   "cell_type": "code",
   "execution_count": 51,
   "metadata": {},
   "outputs": [
    {
     "name": "stdout",
     "output_type": "stream",
     "text": [
      "[1, 2, 3] [1, 2, 3]\n",
      "[1, 2, 3] [100, 2, 3]\n",
      "[1, 2, 3] [100, 2, 3]\n",
      "[1, 2, [999, 2]] [1, 2, [999, 2]]\n",
      "[1, 2, [999, 2]] [1, 2, [999, 2]]\n"
     ]
    }
   ],
   "source": [
    "# 얕은 복사(리스트)\n",
    "a = [1, 2, 3]\n",
    "\n",
    "b = a[:]\n",
    "print(a,b)\n",
    "\n",
    "b[0] = 100\n",
    "print(a,b)\n",
    "\n",
    "# copy함수를 통한 얕은 복사\n",
    "c = a.copy()\n",
    "c[0] = 100\n",
    "print(a,c)\n",
    "\n",
    "# 얕은 복사의 한계\n",
    "a = [1, 2, [1, 2]]\n",
    "\n",
    "b = a[:]\n",
    "b[2][0] = 999\n",
    "print(a,b)      # 1, 2, [999, 2]] [1, 2, [999, 2]]\n",
    "\n",
    "c = a.copy()\n",
    "c[2][0] = 999\n",
    "print(a,c)      # 1, 2, [999, 2]] [1, 2, [999, 2]]"
   ]
  },
  {
   "cell_type": "code",
   "execution_count": 52,
   "metadata": {},
   "outputs": [
    {
     "name": "stdout",
     "output_type": "stream",
     "text": [
      "[1, 2, [1, 2]] [1, 2, [999, 2]]\n"
     ]
    }
   ],
   "source": [
    "# 깊은 복사\n",
    "import copy\n",
    "\n",
    "original_list = [1, 2, [1, 2]]\n",
    "deep_copied_list = copy.deepcopy(original_list)\n",
    "deep_copied_list[2][0] = 999\n",
    "\n",
    "print(original_list, deep_copied_list)"
   ]
  }
 ],
 "metadata": {
  "kernelspec": {
   "display_name": "Python 3",
   "language": "python",
   "name": "python3"
  },
  "language_info": {
   "codemirror_mode": {
    "name": "ipython",
    "version": 3
   },
   "file_extension": ".py",
   "mimetype": "text/x-python",
   "name": "python",
   "nbconvert_exporter": "python",
   "pygments_lexer": "ipython3",
   "version": "3.9.13"
  },
  "orig_nbformat": 4
 },
 "nbformat": 4,
 "nbformat_minor": 2
}
