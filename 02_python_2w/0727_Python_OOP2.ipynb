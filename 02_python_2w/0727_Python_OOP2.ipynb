{
 "cells": [
  {
   "cell_type": "markdown",
   "metadata": {},
   "source": [
    "## 상속\n",
    "> 기존 클래스의 속성과 메서드를 물려받아 새로운 하위 클래스를 생성하는 것\n",
    "\n",
    "- 상속이 필요한 이유\n",
    "    1. 코드 재사용\n",
    "        - 상속을 통해 기존 클래스의 속성과 메서드를 재사용할 수 있음\n",
    "        - 새로운 클래스 작성할 때, 기존 클래스의 기능을 그대로 활용할 수 있으며, 중복된 코드를 줄일 수 있음\n",
    "    2. 계층 구조\n",
    "        - 상속을 통해 클래스들 간의 계층 구조를 형성할 수 있음\n",
    "        - 부모 클래스와 자식 클래스 간의 관계를 표현하고, 더 구체적인 클래스를 만들 수 있음\n",
    "    3. 유지 보수의 용이성\n",
    "        - 상속을 통해 기존 클래스의 수정이 필요한 경우, 해당 클래스만 수정하면되므로 유지 보수가 용이해짐\n",
    "        - 코드의 일관성을 유지하고, 수정이 필요한 범위를 최소화할 수 있음"
   ]
  },
  {
   "cell_type": "code",
   "execution_count": 2,
   "metadata": {},
   "outputs": [
    {
     "name": "stdout",
     "output_type": "stream",
     "text": [
      "반갑습니다. 김학생입니다.\n",
      "반갑습니다. 박교수입니다.\n"
     ]
    }
   ],
   "source": [
    "# 상속이 없는 경우의 어려움\n",
    "class Person:\n",
    "    def __init__(self, name, age):\n",
    "        self.name = name\n",
    "        self.age = age\n",
    "\n",
    "    def talk(self):\n",
    "        print(f'반갑습니다. {self.name}입니다.')\n",
    "\n",
    "s1 = Person('김학생', 23)\n",
    "s1.talk()\n",
    "\n",
    "p1 = Person('박교수', 59)\n",
    "p1.talk()\n",
    "\n",
    "class Professor:\n",
    "    def __init__(self, name, age, department):\n",
    "        self.name = name\n",
    "        self.age = age\n",
    "        self.department = department\n",
    "\n",
    "    def talk(self):     # 중복\n",
    "        print(f'반갑습니다. {self.name}입니다.')\n",
    "        \n",
    "class Student:\n",
    "    def __init__(self, name, age, gpa):\n",
    "        self.name = name\n",
    "        self.age = age\n",
    "        self.gpa = gpa\n",
    "\n",
    "    def talk(self):     # 중복\n",
    "        print(f'반갑습니다. {self.name}입니다.')"
   ]
  },
  {
   "cell_type": "code",
   "execution_count": 7,
   "metadata": {},
   "outputs": [
    {
     "name": "stdout",
     "output_type": "stream",
     "text": [
      "반갑습니다. 박교수입니다.\n",
      "반갑습니다. 김학생입니다.\n"
     ]
    }
   ],
   "source": [
    "# 상속을 사용한 계층 구조(중복을 피하자)\n",
    "class Person:\n",
    "    def __init__(self, name, age):\n",
    "        self.name = name\n",
    "        self.age = age\n",
    "\n",
    "    def talk(self):\n",
    "        print(f'반갑습니다. {self.name}입니다.')\n",
    "\n",
    "class Professor(Person):\n",
    "    def __init__(self, name, age, department):\n",
    "        self.name = name\n",
    "        self.age = age\n",
    "        self.department = department\n",
    "\n",
    "class Student(Person):\n",
    "    def __init__(self, name, age, gpa):\n",
    "        self.name = name\n",
    "        self.age = age\n",
    "        self.gpa = gpa\n",
    "\n",
    "\n",
    "p1 = Professor('박교수', 49, '컴퓨터공학과')\n",
    "s1 = Student('김학생', 20, 3.5)\n",
    "\n",
    "p1.talk()\n",
    "s1.talk()"
   ]
  },
  {
   "cell_type": "code",
   "execution_count": 16,
   "metadata": {},
   "outputs": [
    {
     "name": "stdout",
     "output_type": "stream",
     "text": [
      "안녕, 박교수입니다.\n",
      "안녕, 김학생입니다.\n"
     ]
    },
    {
     "data": {
      "text/plain": [
       "3.5"
      ]
     },
     "execution_count": 16,
     "metadata": {},
     "output_type": "execute_result"
    }
   ],
   "source": [
    "# self.name 과 self.age 도 공통인데 줄일 수 있을까?\n",
    "class Person:\n",
    "    def __init__(self, name , age):\n",
    "        self.name = name\n",
    "        self.age = age\n",
    "\n",
    "    def talk(self):\n",
    "        print(f'안녕, {self.name}입니다.')\n",
    "\n",
    "class Professor(Person):\n",
    "    def __init__(self, name, age, department):\n",
    "        # Person.__init__(self, name, age)\n",
    "        super().__init__(name ,age)\n",
    "        self.department = department\n",
    "\n",
    "class Student(Person):\n",
    "    def __init__(self, name, age, gpa):\n",
    "        super().__init__(name, age)\n",
    "        self.gpa = gpa\n",
    "\n",
    "p1 = Professor('박교수', 45, '컴공')\n",
    "s1 = Student('김학생', 20, 3.5)\n",
    "\n",
    "p1.talk()\n",
    "s1.talk()\n",
    "\n",
    "\n",
    "# 이 코드에서 클래스의 이름이 바뀌면 어떻게 될까?\n",
    "# 아래에 등장하는 모든 클래스 이름을 전부 찾아 바꿔야 함  --> 유연하지 않은 코드\n",
    "# super()라는 내장함수를 사용하여 알아서 상위 클래스를 자동으로 찾아줌(self는 없애기)"
   ]
  },
  {
   "cell_type": "markdown",
   "metadata": {},
   "source": [
    "- 다중 상속\n",
    "    - 두 개 이상의 클래스를 상속 받는 경우\n",
    "    - 상속받은 모든 클래스의 요소를 활용 가능함\n",
    "    - 중복된 속성이나 메서드가 있는 경우 상속 순서에 의해 결정됨"
   ]
  },
  {
   "cell_type": "code",
   "execution_count": 23,
   "metadata": {},
   "outputs": [
    {
     "name": "stdout",
     "output_type": "stream",
     "text": [
      "안녕, 아가\n",
      "아가가 응애\n",
      "아가가 수영\n",
      "아빠가 걷기\n",
      "XY\n"
     ]
    }
   ],
   "source": [
    "class Person:\n",
    "    gene = 'XYZ'\n",
    "\n",
    "    def __init__(self,name):\n",
    "        self.name = name\n",
    "    \n",
    "    def greeting(self):\n",
    "        return f'안녕, {self.name}'\n",
    "    \n",
    "\n",
    "class Mom(Person):\n",
    "    gene = 'XX'\n",
    "\n",
    "    def __init__(self,name):\n",
    "        super().__init__(name)\n",
    "\n",
    "    def swim(self):\n",
    "        return '엄마가 수영'\n",
    "    \n",
    "\n",
    "class Dad(Person):\n",
    "    gene ='XY'\n",
    "\n",
    "    def __init__(self,name):\n",
    "        super().__init__(name)\n",
    "\n",
    "    def walk(self):\n",
    "        return '아빠가 걷기'\n",
    "    \n",
    "\n",
    "class FirstChild(Dad, Mom):\n",
    "    # gene = Mom.gene\n",
    "\n",
    "    def __init__(self,name):\n",
    "        super().__init__(name)\n",
    "\n",
    "    def swim(self):\n",
    "        return f'{self.name}가 수영'\n",
    "    \n",
    "    def cry(self):\n",
    "        return f'{self.name}가 응애'\n",
    "    \n",
    "\n",
    "baby1 = FirstChild('아가')\n",
    "print(baby1.greeting())\n",
    "print(baby1.cry())\n",
    "print(baby1.swim())\n",
    "print(baby1.walk())\n",
    "print(baby1.gene)"
   ]
  },
  {
   "cell_type": "markdown",
   "metadata": {},
   "source": [
    "- 상속 관련 함수와 메서드\n",
    "    - mro()\n",
    "        - method resolution order\n",
    "        - 해당 인스턴스의 클래스가 어떤 부모 클래스를 가지는지 확인하는 메서드\n",
    "        - 기존의 인스턴스 -> 클래스 순으로 이름 공간을 탐색하는 과정에서 상속 관계에 있으면 인스턴스 -> 자식 클래스 -> 부모 클래스로 확장\n",
    "\n",
    "## Errors & Exception\n",
    "# 디버깅\n",
    "- 버그\n",
    "> 소프트웨어에서 발생하는 오류 또는 결함\n",
    "\n",
    "\n",
    "-디버깅 방법\n",
    "    1. print 함수 활용\n",
    "    2. 개발 환경 등에서 제공하는 기능 활용\n",
    "    3. Python tutor 활용\n",
    "    4. 뇌 컴파일\n",
    "\n",
    "- 에러\n",
    "> 프로그램 실행 중 발생하는 예외적인 상황\n",
    "\n",
    "    - 문법 에러(Syntax Error) : 실행이 안됨\n",
    "    - 예외(Exception) : 실행 중에 감지되는 에러\n",
    "\n",
    "\n",
    "- 예외 처리 -> try-except 구조\n",
    "    ```python\n",
    "    try : # 예외가 발생할 수 있는 코드\n",
    "    except (예외): # 예외 처리 코드\n",
    "    ```\n",
    "    - 포함 관계를 생각해서 하위 클래스 에러부터 설정해라"
   ]
  },
  {
   "cell_type": "code",
   "execution_count": 27,
   "metadata": {},
   "outputs": [
    {
     "name": "stdout",
     "output_type": "stream",
     "text": [
      "0으로 나눌 수 없습니다.\n",
      "숫자가 아닙니다.\n"
     ]
    }
   ],
   "source": [
    "try :\n",
    "    result = 10 / 0\n",
    "except ZeroDivisionError:\n",
    "    print('0으로 나눌 수 없습니다.')\n",
    "\n",
    "\n",
    "try:\n",
    "    num = int(input('숫자입력 : '))\n",
    "    print(num)\n",
    "except ValueError:\n",
    "    print('숫자가 아닙니다.')"
   ]
  },
  {
   "cell_type": "code",
   "execution_count": 31,
   "metadata": {},
   "outputs": [
    {
     "name": "stdout",
     "output_type": "stream",
     "text": [
      "숫자를 입력하라고\n"
     ]
    }
   ],
   "source": [
    "try:\n",
    "    num = int(input('100으로 나눌 값을 입력해 : '))\n",
    "    print(100 / num)\n",
    "except ValueError:\n",
    "    print('숫자를 입력하라고')\n",
    "except ZeroDivisionError:\n",
    "    print('왜 0을 입력하는거야??')\n",
    "except:\n",
    "    print('에러가 발생했어')"
   ]
  },
  {
   "cell_type": "markdown",
   "metadata": {},
   "source": [
    "EAFP & LBYL\n",
    "- 예외처리와 값 검사에 대한 2가지 접근 방식\n",
    "    1. EAFP : 예외처리를 중심으로 코드를 작성하는 접근 방식(try-except 구문)\n",
    "    2. LBYL : 값 검사를 중심으로 코드를 작성하는 접근 방식(if-else구문)\n",
    "\n",
    "- as 키워드\n",
    "    - as 키워드를 활용하여 에러 메시지를 except 블록에서 사용할 수 있음\n",
    "    ```python\n",
    "    my_list = []\n",
    "    try:\n",
    "        number = my_list[1]\n",
    "    except IndexError as error:\n",
    "        print(f'{error}의 에러가 발생하였습니다.')\n",
    "    ```"
   ]
  }
 ],
 "metadata": {
  "kernelspec": {
   "display_name": "Python 3",
   "language": "python",
   "name": "python3"
  },
  "language_info": {
   "codemirror_mode": {
    "name": "ipython",
    "version": 3
   },
   "file_extension": ".py",
   "mimetype": "text/x-python",
   "name": "python",
   "nbconvert_exporter": "python",
   "pygments_lexer": "ipython3",
   "version": "3.9.13"
  },
  "orig_nbformat": 4
 },
 "nbformat": 4,
 "nbformat_minor": 2
}
